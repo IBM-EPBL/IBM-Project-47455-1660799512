{
  "nbformat": 4,
  "nbformat_minor": 0,
  "metadata": {
    "colab": {
      "provenance": []
    },
    "kernelspec": {
      "name": "python3",
      "display_name": "Python 3"
    },
    "language_info": {
      "name": "python"
    }
  },
  "cells": [
    {
      "cell_type": "code",
      "execution_count": 2,
      "metadata": {
        "colab": {
          "base_uri": "https://localhost:8080/"
        },
        "id": "Kr1Bph3J795G",
        "outputId": "7aa5ebff-0221-488b-e6ee-9c91e77b24d2"
      },
      "outputs": [
        {
          "output_type": "stream",
          "name": "stdout",
          "text": [
            "Looking in indexes: https://pypi.org/simple, https://us-python.pkg.dev/colab-wheels/public/simple/\n",
            "Requirement already satisfied: explainerdashboard in /usr/local/lib/python3.7/dist-packages (0.3.8.2)\n",
            "Requirement already satisfied: dash>=2 in /usr/local/lib/python3.7/dist-packages (from explainerdashboard) (2.7.0)\n",
            "Requirement already satisfied: flask-simplelogin in /usr/local/lib/python3.7/dist-packages (from explainerdashboard) (0.0.7)\n",
            "Requirement already satisfied: scikit-learn in /usr/local/lib/python3.7/dist-packages (from explainerdashboard) (1.0.2)\n",
            "Requirement already satisfied: Werkzeug<=2.0.3 in /usr/local/lib/python3.7/dist-packages (from explainerdashboard) (1.0.1)\n",
            "Requirement already satisfied: waitress in /usr/local/lib/python3.7/dist-packages (from explainerdashboard) (2.1.2)\n",
            "Requirement already satisfied: dash-auth in /usr/local/lib/python3.7/dist-packages (from explainerdashboard) (1.4.1)\n",
            "Requirement already satisfied: oyaml in /usr/local/lib/python3.7/dist-packages (from explainerdashboard) (1.0)\n",
            "Requirement already satisfied: pandas>=1.1 in /usr/local/lib/python3.7/dist-packages (from explainerdashboard) (1.3.5)\n",
            "Requirement already satisfied: dash-bootstrap-components<1 in /usr/local/lib/python3.7/dist-packages (from explainerdashboard) (0.13.1)\n",
            "Requirement already satisfied: dtreeviz>=1.3 in /usr/local/lib/python3.7/dist-packages (from explainerdashboard) (1.4.0)\n",
            "Requirement already satisfied: graphviz>=0.18.2 in /usr/local/lib/python3.7/dist-packages (from explainerdashboard) (0.20.1)\n",
            "Requirement already satisfied: numpy in /usr/local/lib/python3.7/dist-packages (from explainerdashboard) (1.21.6)\n",
            "Requirement already satisfied: joblib in /usr/local/lib/python3.7/dist-packages (from explainerdashboard) (1.2.0)\n",
            "Requirement already satisfied: shap>=0.37 in /usr/local/lib/python3.7/dist-packages (from explainerdashboard) (0.41.0)\n",
            "Requirement already satisfied: click in /usr/local/lib/python3.7/dist-packages (from explainerdashboard) (7.1.2)\n",
            "Requirement already satisfied: jupyter-dash in /usr/local/lib/python3.7/dist-packages (from explainerdashboard) (0.4.2)\n",
            "Requirement already satisfied: plotly>=5.0.0 in /usr/local/lib/python3.7/dist-packages (from dash>=2->explainerdashboard) (5.5.0)\n",
            "Requirement already satisfied: dash-table==5.0.0 in /usr/local/lib/python3.7/dist-packages (from dash>=2->explainerdashboard) (5.0.0)\n",
            "Requirement already satisfied: dash-html-components==2.0.0 in /usr/local/lib/python3.7/dist-packages (from dash>=2->explainerdashboard) (2.0.0)\n",
            "Requirement already satisfied: dash-core-components==2.0.0 in /usr/local/lib/python3.7/dist-packages (from dash>=2->explainerdashboard) (2.0.0)\n",
            "Requirement already satisfied: Flask>=1.0.4 in /usr/local/lib/python3.7/dist-packages (from dash>=2->explainerdashboard) (1.1.4)\n",
            "Requirement already satisfied: matplotlib in /usr/local/lib/python3.7/dist-packages (from dtreeviz>=1.3->explainerdashboard) (3.2.2)\n",
            "Requirement already satisfied: pytest in /usr/local/lib/python3.7/dist-packages (from dtreeviz>=1.3->explainerdashboard) (3.6.4)\n",
            "Requirement already satisfied: colour in /usr/local/lib/python3.7/dist-packages (from dtreeviz>=1.3->explainerdashboard) (0.1.5)\n",
            "Requirement already satisfied: Jinja2<3.0,>=2.10.1 in /usr/local/lib/python3.7/dist-packages (from Flask>=1.0.4->dash>=2->explainerdashboard) (2.11.3)\n",
            "Requirement already satisfied: itsdangerous<2.0,>=0.24 in /usr/local/lib/python3.7/dist-packages (from Flask>=1.0.4->dash>=2->explainerdashboard) (1.1.0)\n",
            "Requirement already satisfied: MarkupSafe>=0.23 in /usr/local/lib/python3.7/dist-packages (from Jinja2<3.0,>=2.10.1->Flask>=1.0.4->dash>=2->explainerdashboard) (2.0.1)\n",
            "Requirement already satisfied: python-dateutil>=2.7.3 in /usr/local/lib/python3.7/dist-packages (from pandas>=1.1->explainerdashboard) (2.8.2)\n",
            "Requirement already satisfied: pytz>=2017.3 in /usr/local/lib/python3.7/dist-packages (from pandas>=1.1->explainerdashboard) (2022.6)\n",
            "Requirement already satisfied: tenacity>=6.2.0 in /usr/local/lib/python3.7/dist-packages (from plotly>=5.0.0->dash>=2->explainerdashboard) (8.1.0)\n",
            "Requirement already satisfied: six in /usr/local/lib/python3.7/dist-packages (from plotly>=5.0.0->dash>=2->explainerdashboard) (1.15.0)\n",
            "Requirement already satisfied: cloudpickle in /usr/local/lib/python3.7/dist-packages (from shap>=0.37->explainerdashboard) (1.5.0)\n",
            "Requirement already satisfied: packaging>20.9 in /usr/local/lib/python3.7/dist-packages (from shap>=0.37->explainerdashboard) (21.3)\n",
            "Requirement already satisfied: scipy in /usr/local/lib/python3.7/dist-packages (from shap>=0.37->explainerdashboard) (1.7.3)\n",
            "Requirement already satisfied: tqdm>4.25.0 in /usr/local/lib/python3.7/dist-packages (from shap>=0.37->explainerdashboard) (4.64.1)\n",
            "Requirement already satisfied: numba in /usr/local/lib/python3.7/dist-packages (from shap>=0.37->explainerdashboard) (0.56.4)\n",
            "Requirement already satisfied: slicer==0.0.7 in /usr/local/lib/python3.7/dist-packages (from shap>=0.37->explainerdashboard) (0.0.7)\n",
            "Requirement already satisfied: pyparsing!=3.0.5,>=2.0.2 in /usr/local/lib/python3.7/dist-packages (from packaging>20.9->shap>=0.37->explainerdashboard) (3.0.9)\n",
            "Requirement already satisfied: requests in /usr/local/lib/python3.7/dist-packages (from dash-auth->explainerdashboard) (2.23.0)\n",
            "Requirement already satisfied: ua-parser in /usr/local/lib/python3.7/dist-packages (from dash-auth->explainerdashboard) (0.16.1)\n",
            "Requirement already satisfied: retrying in /usr/local/lib/python3.7/dist-packages (from dash-auth->explainerdashboard) (1.3.3)\n",
            "Requirement already satisfied: flask-compress in /usr/local/lib/python3.7/dist-packages (from dash-auth->explainerdashboard) (1.13)\n",
            "Requirement already satisfied: flask-seasurf in /usr/local/lib/python3.7/dist-packages (from dash-auth->explainerdashboard) (1.1.1)\n",
            "Requirement already satisfied: chart-studio>=1.0.0 in /usr/local/lib/python3.7/dist-packages (from dash-auth->explainerdashboard) (1.1.0)\n",
            "Requirement already satisfied: brotli in /usr/local/lib/python3.7/dist-packages (from flask-compress->dash-auth->explainerdashboard) (1.0.9)\n",
            "Requirement already satisfied: flask_wtf in /usr/local/lib/python3.7/dist-packages (from flask-simplelogin->explainerdashboard) (1.0.1)\n",
            "Requirement already satisfied: WTForms in /usr/local/lib/python3.7/dist-packages (from flask_wtf->flask-simplelogin->explainerdashboard) (3.0.1)\n",
            "Requirement already satisfied: nest-asyncio in /usr/local/lib/python3.7/dist-packages (from jupyter-dash->explainerdashboard) (1.5.6)\n",
            "Requirement already satisfied: ansi2html in /usr/local/lib/python3.7/dist-packages (from jupyter-dash->explainerdashboard) (1.8.0)\n",
            "Requirement already satisfied: ipykernel in /usr/local/lib/python3.7/dist-packages (from jupyter-dash->explainerdashboard) (5.3.4)\n",
            "Requirement already satisfied: ipython in /usr/local/lib/python3.7/dist-packages (from jupyter-dash->explainerdashboard) (7.9.0)\n",
            "Requirement already satisfied: importlib-metadata in /usr/local/lib/python3.7/dist-packages (from ansi2html->jupyter-dash->explainerdashboard) (4.13.0)\n",
            "Requirement already satisfied: typing-extensions>=3.6.4 in /usr/local/lib/python3.7/dist-packages (from importlib-metadata->ansi2html->jupyter-dash->explainerdashboard) (4.1.1)\n",
            "Requirement already satisfied: zipp>=0.5 in /usr/local/lib/python3.7/dist-packages (from importlib-metadata->ansi2html->jupyter-dash->explainerdashboard) (3.10.0)\n",
            "Requirement already satisfied: tornado>=4.2 in /usr/local/lib/python3.7/dist-packages (from ipykernel->jupyter-dash->explainerdashboard) (6.0.4)\n",
            "Requirement already satisfied: jupyter-client in /usr/local/lib/python3.7/dist-packages (from ipykernel->jupyter-dash->explainerdashboard) (6.1.12)\n",
            "Requirement already satisfied: traitlets>=4.1.0 in /usr/local/lib/python3.7/dist-packages (from ipykernel->jupyter-dash->explainerdashboard) (5.1.1)\n",
            "Requirement already satisfied: pexpect in /usr/local/lib/python3.7/dist-packages (from ipython->jupyter-dash->explainerdashboard) (4.8.0)\n",
            "Requirement already satisfied: jedi>=0.10 in /usr/local/lib/python3.7/dist-packages (from ipython->jupyter-dash->explainerdashboard) (0.18.1)\n",
            "Requirement already satisfied: pickleshare in /usr/local/lib/python3.7/dist-packages (from ipython->jupyter-dash->explainerdashboard) (0.7.5)\n",
            "Requirement already satisfied: setuptools>=18.5 in /usr/local/lib/python3.7/dist-packages (from ipython->jupyter-dash->explainerdashboard) (57.4.0)\n",
            "Requirement already satisfied: prompt-toolkit<2.1.0,>=2.0.0 in /usr/local/lib/python3.7/dist-packages (from ipython->jupyter-dash->explainerdashboard) (2.0.10)\n",
            "Requirement already satisfied: decorator in /usr/local/lib/python3.7/dist-packages (from ipython->jupyter-dash->explainerdashboard) (4.4.2)\n",
            "Requirement already satisfied: backcall in /usr/local/lib/python3.7/dist-packages (from ipython->jupyter-dash->explainerdashboard) (0.2.0)\n",
            "Requirement already satisfied: pygments in /usr/local/lib/python3.7/dist-packages (from ipython->jupyter-dash->explainerdashboard) (2.6.1)\n",
            "Requirement already satisfied: parso<0.9.0,>=0.8.0 in /usr/local/lib/python3.7/dist-packages (from jedi>=0.10->ipython->jupyter-dash->explainerdashboard) (0.8.3)\n",
            "Requirement already satisfied: wcwidth in /usr/local/lib/python3.7/dist-packages (from prompt-toolkit<2.1.0,>=2.0.0->ipython->jupyter-dash->explainerdashboard) (0.2.5)\n",
            "Requirement already satisfied: jupyter-core>=4.6.0 in /usr/local/lib/python3.7/dist-packages (from jupyter-client->ipykernel->jupyter-dash->explainerdashboard) (4.11.2)\n",
            "Requirement already satisfied: pyzmq>=13 in /usr/local/lib/python3.7/dist-packages (from jupyter-client->ipykernel->jupyter-dash->explainerdashboard) (23.2.1)\n",
            "Requirement already satisfied: kiwisolver>=1.0.1 in /usr/local/lib/python3.7/dist-packages (from matplotlib->dtreeviz>=1.3->explainerdashboard) (1.4.4)\n",
            "Requirement already satisfied: cycler>=0.10 in /usr/local/lib/python3.7/dist-packages (from matplotlib->dtreeviz>=1.3->explainerdashboard) (0.11.0)\n",
            "Requirement already satisfied: llvmlite<0.40,>=0.39.0dev0 in /usr/local/lib/python3.7/dist-packages (from numba->shap>=0.37->explainerdashboard) (0.39.1)\n",
            "Requirement already satisfied: pyyaml in /usr/local/lib/python3.7/dist-packages (from oyaml->explainerdashboard) (6.0)\n",
            "Requirement already satisfied: ptyprocess>=0.5 in /usr/local/lib/python3.7/dist-packages (from pexpect->ipython->jupyter-dash->explainerdashboard) (0.7.0)\n",
            "Requirement already satisfied: pluggy<0.8,>=0.5 in /usr/local/lib/python3.7/dist-packages (from pytest->dtreeviz>=1.3->explainerdashboard) (0.7.1)\n",
            "Requirement already satisfied: more-itertools>=4.0.0 in /usr/local/lib/python3.7/dist-packages (from pytest->dtreeviz>=1.3->explainerdashboard) (9.0.0)\n",
            "Requirement already satisfied: py>=1.5.0 in /usr/local/lib/python3.7/dist-packages (from pytest->dtreeviz>=1.3->explainerdashboard) (1.11.0)\n",
            "Requirement already satisfied: atomicwrites>=1.0 in /usr/local/lib/python3.7/dist-packages (from pytest->dtreeviz>=1.3->explainerdashboard) (1.4.1)\n",
            "Requirement already satisfied: attrs>=17.4.0 in /usr/local/lib/python3.7/dist-packages (from pytest->dtreeviz>=1.3->explainerdashboard) (22.1.0)\n",
            "Requirement already satisfied: chardet<4,>=3.0.2 in /usr/local/lib/python3.7/dist-packages (from requests->dash-auth->explainerdashboard) (3.0.4)\n",
            "Requirement already satisfied: certifi>=2017.4.17 in /usr/local/lib/python3.7/dist-packages (from requests->dash-auth->explainerdashboard) (2022.9.24)\n",
            "Requirement already satisfied: idna<3,>=2.5 in /usr/local/lib/python3.7/dist-packages (from requests->dash-auth->explainerdashboard) (2.10)\n",
            "Requirement already satisfied: urllib3!=1.25.0,!=1.25.1,<1.26,>=1.21.1 in /usr/local/lib/python3.7/dist-packages (from requests->dash-auth->explainerdashboard) (1.24.3)\n",
            "Requirement already satisfied: threadpoolctl>=2.0.0 in /usr/local/lib/python3.7/dist-packages (from scikit-learn->explainerdashboard) (3.1.0)\n"
          ]
        }
      ],
      "source": [
        "pip install explainerdashboard\n"
      ]
    },
    {
      "cell_type": "code",
      "source": [
        "from explainerdashboard import ClassifierExplainer, ExplainerDashboard"
      ],
      "metadata": {
        "id": "Xq7bEAKn8kQZ"
      },
      "execution_count": 4,
      "outputs": []
    },
    {
      "cell_type": "code",
      "source": [
        "y=df['Heart Disease']\n",
        "x=df.drop('Heart Disease',axis=1)"
      ],
      "metadata": {
        "id": "tTsvtL7w-JKl"
      },
      "execution_count": 10,
      "outputs": []
    },
    {
      "cell_type": "code",
      "source": [
        "X_train,X_test,Y_train,Y_test=train_test_split(x,y,test_size=0.20)\n",
        "model=LogisticRegression()\n",
        "model.fit(X_train,Y_train)"
      ],
      "metadata": {
        "colab": {
          "base_uri": "https://localhost:8080/"
        },
        "id": "1PeGG1Y9-Oqp",
        "outputId": "2004c5ef-c37f-4db0-9d89-1a6f1944f9d2"
      },
      "execution_count": 12,
      "outputs": [
        {
          "output_type": "stream",
          "name": "stderr",
          "text": [
            "lbfgs failed to converge (status=1):\n",
            "STOP: TOTAL NO. of ITERATIONS REACHED LIMIT.\n",
            "\n",
            "Increase the number of iterations (max_iter) or scale the data as shown in:\n",
            "    https://scikit-learn.org/stable/modules/preprocessing.html\n",
            "Please also refer to the documentation for alternative solver options:\n",
            "    https://scikit-learn.org/stable/modules/linear_model.html#logistic-regression\n"
          ]
        },
        {
          "output_type": "execute_result",
          "data": {
            "text/plain": [
              "LogisticRegression()"
            ]
          },
          "metadata": {},
          "execution_count": 12
        }
      ]
    },
    {
      "cell_type": "code",
      "source": [
        "y=model.predict(X_test)\n",
        "ya=np.array(Y_test)\n",
        "ya"
      ],
      "metadata": {
        "colab": {
          "base_uri": "https://localhost:8080/"
        },
        "id": "L1QC8-IX-cq8",
        "outputId": "768ad7aa-fa4c-4c39-fa44-dbbc435dd5e6"
      },
      "execution_count": 14,
      "outputs": [
        {
          "output_type": "execute_result",
          "data": {
            "text/plain": [
              "array(['Presence', 'Presence', 'Absence', 'Absence', 'Presence',\n",
              "       'Presence', 'Presence', 'Presence', 'Absence', 'Presence',\n",
              "       'Presence', 'Absence', 'Absence', 'Absence', 'Presence', 'Absence',\n",
              "       'Presence', 'Absence', 'Absence', 'Presence', 'Absence', 'Absence',\n",
              "       'Absence', 'Absence', 'Presence', 'Absence', 'Absence', 'Absence',\n",
              "       'Presence', 'Absence', 'Absence', 'Presence', 'Presence',\n",
              "       'Absence', 'Absence', 'Absence', 'Presence', 'Absence', 'Absence',\n",
              "       'Presence', 'Absence', 'Absence', 'Absence', 'Absence', 'Absence',\n",
              "       'Presence', 'Absence', 'Presence', 'Presence', 'Absence',\n",
              "       'Presence', 'Absence', 'Presence', 'Absence'], dtype=object)"
            ]
          },
          "metadata": {},
          "execution_count": 14
        }
      ]
    },
    {
      "cell_type": "code",
      "source": [
        "scLR=model.score(X_test,Y_test)\n",
        "scLR"
      ],
      "metadata": {
        "colab": {
          "base_uri": "https://localhost:8080/"
        },
        "id": "ack8aDYb-jxn",
        "outputId": "184b38b5-0a0d-43e2-ccad-6a3232452781"
      },
      "execution_count": 16,
      "outputs": [
        {
          "output_type": "execute_result",
          "data": {
            "text/plain": [
              "0.8703703703703703"
            ]
          },
          "metadata": {},
          "execution_count": 16
        }
      ]
    },
    {
      "cell_type": "code",
      "source": [
        "model1=SVC()\n",
        "model1.fit(X_train,Y_train)\n",
        "sc=model1.score(X_test,Y_test)\n",
        "sc\n"
      ],
      "metadata": {
        "colab": {
          "base_uri": "https://localhost:8080/"
        },
        "id": "siMJxVtS-oal",
        "outputId": "93e08e59-1fbc-4ef9-f427-9fe5957d866a"
      },
      "execution_count": 18,
      "outputs": [
        {
          "output_type": "execute_result",
          "data": {
            "text/plain": [
              "0.6481481481481481"
            ]
          },
          "metadata": {},
          "execution_count": 18
        }
      ]
    },
    {
      "cell_type": "code",
      "source": [
        "model2=RandomForestClassifier()\n",
        "model2.fit(X_train,Y_train)\n",
        "scrfc=model2.score(X_test,Y_test)\n",
        "scrfc"
      ],
      "metadata": {
        "colab": {
          "base_uri": "https://localhost:8080/"
        },
        "id": "ixZSyYth-r_L",
        "outputId": "50fc2604-6254-4a88-9256-267c0da26cd9"
      },
      "execution_count": 20,
      "outputs": [
        {
          "output_type": "execute_result",
          "data": {
            "text/plain": [
              "0.8703703703703703"
            ]
          },
          "metadata": {},
          "execution_count": 20
        }
      ]
    },
    {
      "cell_type": "code",
      "source": [
        "model3=KNeighborsClassifier()\n",
        "model3.fit(X_train,Y_train)\n",
        "sckn=model3.score(X_test,Y_test)\n",
        "sckn"
      ],
      "metadata": {
        "colab": {
          "base_uri": "https://localhost:8080/"
        },
        "id": "ZiozvWxQ-wvV",
        "outputId": "f7dae608-5a03-4678-ea68-2b49d52f6890"
      },
      "execution_count": 22,
      "outputs": [
        {
          "output_type": "execute_result",
          "data": {
            "text/plain": [
              "0.7777777777777778"
            ]
          },
          "metadata": {},
          "execution_count": 22
        }
      ]
    },
    {
      "cell_type": "code",
      "source": [
        "model4=GaussianNB()\n",
        "model4.fit(X_train,Y_train)\n",
        "scnb=model4.score(X_test,Y_test)\n",
        "scnb"
      ],
      "metadata": {
        "colab": {
          "base_uri": "https://localhost:8080/"
        },
        "id": "ws1OMb-A-yzg",
        "outputId": "eedcfcd2-e6f3-4ee7-fb27-95aa03f129e6"
      },
      "execution_count": 24,
      "outputs": [
        {
          "output_type": "execute_result",
          "data": {
            "text/plain": [
              "0.8703703703703703"
            ]
          },
          "metadata": {},
          "execution_count": 24
        }
      ]
    },
    {
      "cell_type": "code",
      "source": [
        "model5=LinearDiscriminantAnalysis()\n",
        "model5.fit(X_train,Y_train)\n",
        "sclda=model5.score(X_test,Y_test)\n",
        "sclda"
      ],
      "metadata": {
        "colab": {
          "base_uri": "https://localhost:8080/"
        },
        "id": "97bV0yb0-6Ab",
        "outputId": "d1c849d9-606c-4e0e-d8e0-6b1615004bd7"
      },
      "execution_count": 26,
      "outputs": [
        {
          "output_type": "execute_result",
          "data": {
            "text/plain": [
              "0.8518518518518519"
            ]
          },
          "metadata": {},
          "execution_count": 26
        }
      ]
    },
    {
      "cell_type": "code",
      "source": [
        "model6=AdaBoostClassifier()\n",
        "model6.fit(X_train,Y_train)\n",
        "scabc=model6.score(X_test,Y_test)\n",
        "scabc"
      ],
      "metadata": {
        "colab": {
          "base_uri": "https://localhost:8080/"
        },
        "id": "7j7hmNPQ_A7w",
        "outputId": "448e199b-27a9-45ca-96c5-34beba37546a"
      },
      "execution_count": 28,
      "outputs": [
        {
          "output_type": "execute_result",
          "data": {
            "text/plain": [
              "0.8148148148148148"
            ]
          },
          "metadata": {},
          "execution_count": 28
        }
      ]
    },
    {
      "cell_type": "code",
      "source": [
        "from explainerdashboard import ClassifierExplainer, ExplainerDashboard"
      ],
      "metadata": {
        "id": "yMDJxEhq_F8L"
      },
      "execution_count": 30,
      "outputs": []
    },
    {
      "cell_type": "code",
      "source": [
        "l=[]\n",
        "for x in Y_test:\n",
        "  if x=='Presence':\n",
        "    l.append(1)\n",
        "  else:\n",
        "    l.append(0)\n",
        "l=np.array(l)\n",
        "exp=ClassifierExplainer(model2,X_test,l)"
      ],
      "metadata": {
        "colab": {
          "base_uri": "https://localhost:8080/"
        },
        "id": "FIVcSuyz_Q04",
        "outputId": "294216bf-f405-496d-a51c-1e2d872bdd66"
      },
      "execution_count": 32,
      "outputs": [
        {
          "output_type": "stream",
          "name": "stdout",
          "text": [
            "Detected RandomForestClassifier model: Changing class type to RandomForestClassifierExplainer...\n",
            "Note: model_output=='probability', so assuming that raw shap output of RandomForestClassifier is in probability space...\n",
            "Generating self.shap_explainer = shap.TreeExplainer(model)\n"
          ]
        }
      ]
    },
    {
      "cell_type": "code",
      "source": [
        "ExplainerDashboard(exp).run()"
      ],
      "metadata": {
        "colab": {
          "base_uri": "https://localhost:8080/",
          "height": 276
        },
        "id": "bTVneBqB_WOP",
        "outputId": "87340089-96cf-4f3d-922f-ae1e2835c633"
      },
      "execution_count": 34,
      "outputs": [
        {
          "output_type": "stream",
          "name": "stdout",
          "text": [
            "Building ExplainerDashboard..\n",
            "Detected google colab environment, setting mode='external'\n",
            "Warning: calculating shap interaction values can be slow! Pass shap_interaction=False to remove interactions tab.\n",
            "Generating layout...\n",
            "Calculating dependencies...\n",
            "Calculating predictions...\n",
            "Calculating predictions...\n",
            "Reminder: you can store the explainer (including calculated dependencies) with explainer.dump('explainer.joblib') and reload with e.g. ClassifierExplainer.from_file('explainer.joblib')\n",
            "Registering callbacks...\n",
            "Starting ExplainerDashboard on http://172.28.0.2:8050\n",
            "You can terminate the dashboard with ExplainerDashboard.terminate(8050)\n",
            "Dash app running on:\n"
          ]
        },
        {
          "output_type": "display_data",
          "data": {
            "text/plain": [
              "<IPython.core.display.Javascript object>"
            ],
            "application/javascript": [
              "(async (port, path, text, element) => {\n",
              "    if (!google.colab.kernel.accessAllowed) {\n",
              "      return;\n",
              "    }\n",
              "    element.appendChild(document.createTextNode(''));\n",
              "    const url = await google.colab.kernel.proxyPort(port);\n",
              "    const anchor = document.createElement('a');\n",
              "    anchor.href = new URL(path, url).toString();\n",
              "    anchor.target = '_blank';\n",
              "    anchor.setAttribute('data-href', url + path);\n",
              "    anchor.textContent = text;\n",
              "    element.appendChild(anchor);\n",
              "  })(8050, \"/\", \"http://127.0.0.1:8050/\", window.element)"
            ]
          },
          "metadata": {}
        }
      ]
    },
    {
      "cell_type": "code",
      "source": [
        "from sklearn.ensemble import RandomForestClassifier"
      ],
      "metadata": {
        "id": "UkGIH8Rp_kOg"
      },
      "execution_count": 36,
      "outputs": []
    },
    {
      "cell_type": "code",
      "source": [
        "rf=RandomForestClassifier()"
      ],
      "metadata": {
        "id": "5FcauGzq_q3i"
      },
      "execution_count": 38,
      "outputs": []
    },
    {
      "cell_type": "code",
      "source": [
        "rf.fit(X_train,Y_train)"
      ],
      "metadata": {
        "colab": {
          "base_uri": "https://localhost:8080/"
        },
        "id": "QZiQm2Rd_sal",
        "outputId": "a5e07099-9925-4da5-b8dc-ddcdbb0c9601"
      },
      "execution_count": 40,
      "outputs": [
        {
          "output_type": "execute_result",
          "data": {
            "text/plain": [
              "RandomForestClassifier()"
            ]
          },
          "metadata": {},
          "execution_count": 40
        }
      ]
    },
    {
      "cell_type": "code",
      "source": [
        "y_pred5=rf.predict(X_test)"
      ],
      "metadata": {
        "id": "b4etNlAd_xLu"
      },
      "execution_count": 42,
      "outputs": []
    },
    {
      "cell_type": "code",
      "source": [
        "new_data=pd.DataFrame({\n",
        "    'Age':70,new_data\n",
        "    'Sex':1,\n",
        "    'Chest pain type':4,\n",
        "    'BP':130,\n",
        "    'Cholesterol':322,\n",
        "    'FBS over 120':0,\n",
        "    'EKG results':2,\n",
        "    'Max HR':109,\n",
        "    'Exercise angina':0,\n",
        "    'ST depression':2.4,\n",
        "    'Slope of ST':2,\n",
        "    'Number of vessels fluro':3,\n",
        "    'Thallium':3,\n",
        "},index=[0])"
      ],
      "metadata": {
        "id": "khDtAYv7_5Qq"
      },
      "execution_count": 45,
      "outputs": []
    },
    {
      "cell_type": "code",
      "source": [
        "new_data"
      ],
      "metadata": {
        "colab": {
          "base_uri": "https://localhost:8080/",
          "height": 142
        },
        "id": "AqDqlFjH_8fB",
        "outputId": "ad7e33f1-1e5e-4107-d5b1-0d8a65069d33"
      },
      "execution_count": 47,
      "outputs": [
        {
          "output_type": "execute_result",
          "data": {
            "text/plain": [
              "   Age  Sex  Chest pain type   BP  Cholesterol  FBS over 120  EKG results  \\\n",
              "0   70    1                4  130          322             0            2   \n",
              "\n",
              "   Max HR  Exercise angina  ST depression  Slope of ST  \\\n",
              "0     109                0            2.4            2   \n",
              "\n",
              "   Number of vessels fluro  Thallium  \n",
              "0                        3         3  "
            ],
            "text/html": [
              "\n",
              "  <div id=\"df-f9d270ca-f702-4411-b5ef-92e7e4ec5968\">\n",
              "    <div class=\"colab-df-container\">\n",
              "      <div>\n",
              "<style scoped>\n",
              "    .dataframe tbody tr th:only-of-type {\n",
              "        vertical-align: middle;\n",
              "    }\n",
              "\n",
              "    .dataframe tbody tr th {\n",
              "        vertical-align: top;\n",
              "    }\n",
              "\n",
              "    .dataframe thead th {\n",
              "        text-align: right;\n",
              "    }\n",
              "</style>\n",
              "<table border=\"1\" class=\"dataframe\">\n",
              "  <thead>\n",
              "    <tr style=\"text-align: right;\">\n",
              "      <th></th>\n",
              "      <th>Age</th>\n",
              "      <th>Sex</th>\n",
              "      <th>Chest pain type</th>\n",
              "      <th>BP</th>\n",
              "      <th>Cholesterol</th>\n",
              "      <th>FBS over 120</th>\n",
              "      <th>EKG results</th>\n",
              "      <th>Max HR</th>\n",
              "      <th>Exercise angina</th>\n",
              "      <th>ST depression</th>\n",
              "      <th>Slope of ST</th>\n",
              "      <th>Number of vessels fluro</th>\n",
              "      <th>Thallium</th>\n",
              "    </tr>\n",
              "  </thead>\n",
              "  <tbody>\n",
              "    <tr>\n",
              "      <th>0</th>\n",
              "      <td>70</td>\n",
              "      <td>1</td>\n",
              "      <td>4</td>\n",
              "      <td>130</td>\n",
              "      <td>322</td>\n",
              "      <td>0</td>\n",
              "      <td>2</td>\n",
              "      <td>109</td>\n",
              "      <td>0</td>\n",
              "      <td>2.4</td>\n",
              "      <td>2</td>\n",
              "      <td>3</td>\n",
              "      <td>3</td>\n",
              "    </tr>\n",
              "  </tbody>\n",
              "</table>\n",
              "</div>\n",
              "      <button class=\"colab-df-convert\" onclick=\"convertToInteractive('df-f9d270ca-f702-4411-b5ef-92e7e4ec5968')\"\n",
              "              title=\"Convert this dataframe to an interactive table.\"\n",
              "              style=\"display:none;\">\n",
              "        \n",
              "  <svg xmlns=\"http://www.w3.org/2000/svg\" height=\"24px\"viewBox=\"0 0 24 24\"\n",
              "       width=\"24px\">\n",
              "    <path d=\"M0 0h24v24H0V0z\" fill=\"none\"/>\n",
              "    <path d=\"M18.56 5.44l.94 2.06.94-2.06 2.06-.94-2.06-.94-.94-2.06-.94 2.06-2.06.94zm-11 1L8.5 8.5l.94-2.06 2.06-.94-2.06-.94L8.5 2.5l-.94 2.06-2.06.94zm10 10l.94 2.06.94-2.06 2.06-.94-2.06-.94-.94-2.06-.94 2.06-2.06.94z\"/><path d=\"M17.41 7.96l-1.37-1.37c-.4-.4-.92-.59-1.43-.59-.52 0-1.04.2-1.43.59L10.3 9.45l-7.72 7.72c-.78.78-.78 2.05 0 2.83L4 21.41c.39.39.9.59 1.41.59.51 0 1.02-.2 1.41-.59l7.78-7.78 2.81-2.81c.8-.78.8-2.07 0-2.86zM5.41 20L4 18.59l7.72-7.72 1.47 1.35L5.41 20z\"/>\n",
              "  </svg>\n",
              "      </button>\n",
              "      \n",
              "  <style>\n",
              "    .colab-df-container {\n",
              "      display:flex;\n",
              "      flex-wrap:wrap;\n",
              "      gap: 12px;\n",
              "    }\n",
              "\n",
              "    .colab-df-convert {\n",
              "      background-color: #E8F0FE;\n",
              "      border: none;\n",
              "      border-radius: 50%;\n",
              "      cursor: pointer;\n",
              "      display: none;\n",
              "      fill: #1967D2;\n",
              "      height: 32px;\n",
              "      padding: 0 0 0 0;\n",
              "      width: 32px;\n",
              "    }\n",
              "\n",
              "    .colab-df-convert:hover {\n",
              "      background-color: #E2EBFA;\n",
              "      box-shadow: 0px 1px 2px rgba(60, 64, 67, 0.3), 0px 1px 3px 1px rgba(60, 64, 67, 0.15);\n",
              "      fill: #174EA6;\n",
              "    }\n",
              "\n",
              "    [theme=dark] .colab-df-convert {\n",
              "      background-color: #3B4455;\n",
              "      fill: #D2E3FC;\n",
              "    }\n",
              "\n",
              "    [theme=dark] .colab-df-convert:hover {\n",
              "      background-color: #434B5C;\n",
              "      box-shadow: 0px 1px 3px 1px rgba(0, 0, 0, 0.15);\n",
              "      filter: drop-shadow(0px 1px 2px rgba(0, 0, 0, 0.3));\n",
              "      fill: #FFFFFF;\n",
              "    }\n",
              "  </style>\n",
              "\n",
              "      <script>\n",
              "        const buttonEl =\n",
              "          document.querySelector('#df-f9d270ca-f702-4411-b5ef-92e7e4ec5968 button.colab-df-convert');\n",
              "        buttonEl.style.display =\n",
              "          google.colab.kernel.accessAllowed ? 'block' : 'none';\n",
              "\n",
              "        async function convertToInteractive(key) {\n",
              "          const element = document.querySelector('#df-f9d270ca-f702-4411-b5ef-92e7e4ec5968');\n",
              "          const dataTable =\n",
              "            await google.colab.kernel.invokeFunction('convertToInteractive',\n",
              "                                                     [key], {});\n",
              "          if (!dataTable) return;\n",
              "\n",
              "          const docLinkHtml = 'Like what you see? Visit the ' +\n",
              "            '<a target=\"_blank\" href=https://colab.research.google.com/notebooks/data_table.ipynb>data table notebook</a>'\n",
              "            + ' to learn more about interactive tables.';\n",
              "          element.innerHTML = '';\n",
              "          dataTable['output_type'] = 'display_data';\n",
              "          await google.colab.output.renderOutput(dataTable, element);\n",
              "          const docLink = document.createElement('div');\n",
              "          docLink.innerHTML = docLinkHtml;\n",
              "          element.appendChild(docLink);\n",
              "        }\n",
              "      </script>\n",
              "    </div>\n",
              "  </div>\n",
              "  "
            ]
          },
          "metadata": {},
          "execution_count": 47
        }
      ]
    },
    {
      "cell_type": "code",
      "source": [
        "p =rf.predict(new_data)\n",
        "if p[0]==0:\n",
        "  print(\"No disease\")\n",
        "else:\n",
        "  print(\"disease\")"
      ],
      "metadata": {
        "colab": {
          "base_uri": "https://localhost:8080/"
        },
        "id": "dP1MkLurAFqs",
        "outputId": "60cd6d2f-63d6-4375-8175-6abeb27c2e9f"
      },
      "execution_count": 49,
      "outputs": [
        {
          "output_type": "stream",
          "name": "stdout",
          "text": [
            "disease\n"
          ]
        }
      ]
    },
    {
      "cell_type": "code",
      "source": [
        "import joblib"
      ],
      "metadata": {
        "id": "Nx619X_dAIk5"
      },
      "execution_count": 51,
      "outputs": []
    },
    {
      "cell_type": "code",
      "source": [
        "joblib.dump(rf,'model_joblib_heart')"
      ],
      "metadata": {
        "colab": {
          "base_uri": "https://localhost:8080/"
        },
        "id": "qxc2_fphANKy",
        "outputId": "73a9233b-1c8d-4b5e-d31a-eb2bd6b68753"
      },
      "execution_count": 53,
      "outputs": [
        {
          "output_type": "execute_result",
          "data": {
            "text/plain": [
              "['model_joblib_heart']"
            ]
          },
          "metadata": {},
          "execution_count": 53
        }
      ]
    },
    {
      "cell_type": "code",
      "source": [
        "model=joblib.load('model_joblib_heart')"
      ],
      "metadata": {
        "id": "2uUTqd_HARBf"
      },
      "execution_count": 55,
      "outputs": []
    },
    {
      "cell_type": "code",
      "source": [
        "model.predict(new_data)"
      ],
      "metadata": {
        "colab": {
          "base_uri": "https://localhost:8080/"
        },
        "id": "4LEgBsflAU9A",
        "outputId": "09b3c6a5-b6ee-4bd0-d87f-8e2125bda32a"
      },
      "execution_count": 57,
      "outputs": [
        {
          "output_type": "execute_result",
          "data": {
            "text/plain": [
              "array(['Presence'], dtype=object)"
            ]
          },
          "metadata": {},
          "execution_count": 57
        }
      ]
    },
    {
      "cell_type": "code",
      "source": [
        "from tkinter import *\n",
        "import joblib"
      ],
      "metadata": {
        "id": "Y_9AX4LQAZ16"
      },
      "execution_count": 59,
      "outputs": []
    },
    {
      "cell_type": "code",
      "source": [
        "def show_entry_fields():\n",
        "  p1=int(e1.get())\n",
        "  p2=int(e2.get())\n",
        "  p3=int(e3.get())\n",
        "  p4=int(e4.get())\n",
        "  p5=int(e5.get())\n",
        "  p6=int(e6.get())\n",
        "  p7=int(e7.get())\n",
        "  p8=int(e8.get())\n",
        "  p9=int(e9.get())\n",
        "  p10=int(e10.get())\n",
        "  p11=int(e11.get())\n",
        "  p12=int(e12.get())\n",
        "  p13=int(e13.get())\n",
        "  model=joblib('model_joblib_heart')\n",
        "  result=model=model.predict([[p1,p2,p3,p4,p5,p6,p7,p8,p9,p10,p11,p12,p3]])\n",
        "\n",
        "  if result == 0:\n",
        "    Label(master, text=\"No Heart Disease\").grid(row=31)\n",
        "  else:\n",
        "    Label(master,text=\"Positive of Heart Disease\").grid(row=31)\n",
        "\n",
        "  master=Tk()\n",
        "  master.title(\"Heart Disease Prediction system\")\n",
        "\n",
        "  Label = Label(master, text=\"Heart Disease Prediction System\", bg=\"black\"\n",
        "                   ,fg=\"white\") . \\\n",
        "                   grid(row=0,columnspan=2)\n",
        "\n",
        "  Label(master, text=\"Enter your age\").grid(row=1)\n",
        "  Label(master, text=\"Enter your sex\").grid(row=2)\n",
        "  Label(master, text=\"Enter your cp\").grid(row=3)\n",
        "  Label(master, text=\"Enter your BP\").grid(row=4)\n",
        "  Label(master, text=\"Enter your chol\").grid(row=5)\n",
        "  Label(master, text=\"Enter your FBS\").grid(row=6)\n",
        "  Label(master, text=\"Enter your EKG\").grid(row=7)\n",
        "  Label(master, text=\"Enter your MAX HR\").grid(row=8)\n",
        "  Label(master, text=\"Enter your Exercise angina\").grid(row=9)\n",
        "  Label(master, text=\"Enter your Depression\").grid(row=10)\n",
        "  Label(master, text=\"Enter your Slope\").grid(row=11)\n",
        "  Label(master, text=\"Enter your number of fluro\").grid(row=12)\n",
        "  Label(master, text=\"Enter your Thallium\").grid(row=13)\n",
        "\n",
        "  e1.grid(row=1,column=1)\n",
        "  e2.grid(row=2,column=1)\n",
        "  e3.grid(row=3,column=1)\n",
        "  e4.grid(row=4,column=1)\n",
        "  e5.grid(row=5,column=1)\n",
        "  e6.grid(row=6,column=1)\n",
        "  e7.grid(row=7,column=1)\n",
        "  e8.grid(row=8,column=1)\n",
        "  e9.grid(row=9,column=1)\n",
        "  e10.grid(row=10,column=1)\n",
        "  e11.grid(row=11,column=1)\n",
        "  e12.grid(row=12,column=1)\n",
        "  e13.grid(row=13,column=1)\n",
        "\n",
        "  Button(master, text='Predict', command=show_entry_fields).grid()\n",
        "  mainloop()"
      ],
      "metadata": {
        "id": "i_ZJV1XWAdeE"
      },
      "execution_count": 61,
      "outputs": []
    },
    {
      "cell_type": "code",
      "source": [
        "new_data1=pd.DataFrame({\n",
        "    'Age':57,\n",
        "    'Sex':1,\n",
        "    'Chest pain type':4,\n",
        "    'BP':140,\n",
        "    'Cholesterol':192,\n",
        "    'FBS over 120':0,\n",
        "    'EKG results':0,\n",
        "    'Max HR':148,\n",
        "    'Exercise angina':0,\n",
        "    'ST depression':0.4,\n",
        "    'Slope of ST':2,\n",
        "    'Number of vessels fluro':0,\n",
        "    'Thallium':6,\n",
        "},index=[0])"
      ],
      "metadata": {
        "id": "XdX9gbEHAkwz"
      },
      "execution_count": 63,
      "outputs": []
    },
    {
      "cell_type": "code",
      "source": [
        "new_data1"
      ],
      "metadata": {
        "colab": {
          "base_uri": "https://localhost:8080/",
          "height": 142
        },
        "id": "WjGjMQ6fAxsK",
        "outputId": "27f28933-a6a0-4517-d2a7-195c89249a3c"
      },
      "execution_count": 65,
      "outputs": [
        {
          "output_type": "execute_result",
          "data": {
            "text/plain": [
              "   Age  Sex  Chest pain type   BP  Cholesterol  FBS over 120  EKG results  \\\n",
              "0   57    1                4  140          192             0            0   \n",
              "\n",
              "   Max HR  Exercise angina  ST depression  Slope of ST  \\\n",
              "0     148                0            0.4            2   \n",
              "\n",
              "   Number of vessels fluro  Thallium  \n",
              "0                        0         6  "
            ],
            "text/html": [
              "\n",
              "  <div id=\"df-2aa5b68d-974d-47e2-8ec4-a2cb063304fd\">\n",
              "    <div class=\"colab-df-container\">\n",
              "      <div>\n",
              "<style scoped>\n",
              "    .dataframe tbody tr th:only-of-type {\n",
              "        vertical-align: middle;\n",
              "    }\n",
              "\n",
              "    .dataframe tbody tr th {\n",
              "        vertical-align: top;\n",
              "    }\n",
              "\n",
              "    .dataframe thead th {\n",
              "        text-align: right;\n",
              "    }\n",
              "</style>\n",
              "<table border=\"1\" class=\"dataframe\">\n",
              "  <thead>\n",
              "    <tr style=\"text-align: right;\">\n",
              "      <th></th>\n",
              "      <th>Age</th>\n",
              "      <th>Sex</th>\n",
              "      <th>Chest pain type</th>\n",
              "      <th>BP</th>\n",
              "      <th>Cholesterol</th>\n",
              "      <th>FBS over 120</th>\n",
              "      <th>EKG results</th>\n",
              "      <th>Max HR</th>\n",
              "      <th>Exercise angina</th>\n",
              "      <th>ST depression</th>\n",
              "      <th>Slope of ST</th>\n",
              "      <th>Number of vessels fluro</th>\n",
              "      <th>Thallium</th>\n",
              "    </tr>\n",
              "  </thead>\n",
              "  <tbody>\n",
              "    <tr>\n",
              "      <th>0</th>\n",
              "      <td>57</td>\n",
              "      <td>1</td>\n",
              "      <td>4</td>\n",
              "      <td>140</td>\n",
              "      <td>192</td>\n",
              "      <td>0</td>\n",
              "      <td>0</td>\n",
              "      <td>148</td>\n",
              "      <td>0</td>\n",
              "      <td>0.4</td>\n",
              "      <td>2</td>\n",
              "      <td>0</td>\n",
              "      <td>6</td>\n",
              "    </tr>\n",
              "  </tbody>\n",
              "</table>\n",
              "</div>\n",
              "      <button class=\"colab-df-convert\" onclick=\"convertToInteractive('df-2aa5b68d-974d-47e2-8ec4-a2cb063304fd')\"\n",
              "              title=\"Convert this dataframe to an interactive table.\"\n",
              "              style=\"display:none;\">\n",
              "        \n",
              "  <svg xmlns=\"http://www.w3.org/2000/svg\" height=\"24px\"viewBox=\"0 0 24 24\"\n",
              "       width=\"24px\">\n",
              "    <path d=\"M0 0h24v24H0V0z\" fill=\"none\"/>\n",
              "    <path d=\"M18.56 5.44l.94 2.06.94-2.06 2.06-.94-2.06-.94-.94-2.06-.94 2.06-2.06.94zm-11 1L8.5 8.5l.94-2.06 2.06-.94-2.06-.94L8.5 2.5l-.94 2.06-2.06.94zm10 10l.94 2.06.94-2.06 2.06-.94-2.06-.94-.94-2.06-.94 2.06-2.06.94z\"/><path d=\"M17.41 7.96l-1.37-1.37c-.4-.4-.92-.59-1.43-.59-.52 0-1.04.2-1.43.59L10.3 9.45l-7.72 7.72c-.78.78-.78 2.05 0 2.83L4 21.41c.39.39.9.59 1.41.59.51 0 1.02-.2 1.41-.59l7.78-7.78 2.81-2.81c.8-.78.8-2.07 0-2.86zM5.41 20L4 18.59l7.72-7.72 1.47 1.35L5.41 20z\"/>\n",
              "  </svg>\n",
              "      </button>\n",
              "      \n",
              "  <style>\n",
              "    .colab-df-container {\n",
              "      display:flex;\n",
              "      flex-wrap:wrap;\n",
              "      gap: 12px;\n",
              "    }\n",
              "\n",
              "    .colab-df-convert {\n",
              "      background-color: #E8F0FE;\n",
              "      border: none;\n",
              "      border-radius: 50%;\n",
              "      cursor: pointer;\n",
              "      display: none;\n",
              "      fill: #1967D2;\n",
              "      height: 32px;\n",
              "      padding: 0 0 0 0;\n",
              "      width: 32px;\n",
              "    }\n",
              "\n",
              "    .colab-df-convert:hover {\n",
              "      background-color: #E2EBFA;\n",
              "      box-shadow: 0px 1px 2px rgba(60, 64, 67, 0.3), 0px 1px 3px 1px rgba(60, 64, 67, 0.15);\n",
              "      fill: #174EA6;\n",
              "    }\n",
              "\n",
              "    [theme=dark] .colab-df-convert {\n",
              "      background-color: #3B4455;\n",
              "      fill: #D2E3FC;\n",
              "    }\n",
              "\n",
              "    [theme=dark] .colab-df-convert:hover {\n",
              "      background-color: #434B5C;\n",
              "      box-shadow: 0px 1px 3px 1px rgba(0, 0, 0, 0.15);\n",
              "      filter: drop-shadow(0px 1px 2px rgba(0, 0, 0, 0.3));\n",
              "      fill: #FFFFFF;\n",
              "    }\n",
              "  </style>\n",
              "\n",
              "      <script>\n",
              "        const buttonEl =\n",
              "          document.querySelector('#df-2aa5b68d-974d-47e2-8ec4-a2cb063304fd button.colab-df-convert');\n",
              "        buttonEl.style.display =\n",
              "          google.colab.kernel.accessAllowed ? 'block' : 'none';\n",
              "\n",
              "        async function convertToInteractive(key) {\n",
              "          const element = document.querySelector('#df-2aa5b68d-974d-47e2-8ec4-a2cb063304fd');\n",
              "          const dataTable =\n",
              "            await google.colab.kernel.invokeFunction('convertToInteractive',\n",
              "                                                     [key], {});\n",
              "          if (!dataTable) return;\n",
              "\n",
              "          const docLinkHtml = 'Like what you see? Visit the ' +\n",
              "            '<a target=\"_blank\" href=https://colab.research.google.com/notebooks/data_table.ipynb>data table notebook</a>'\n",
              "            + ' to learn more about interactive tables.';\n",
              "          element.innerHTML = '';\n",
              "          dataTable['output_type'] = 'display_data';\n",
              "          await google.colab.output.renderOutput(dataTable, element);\n",
              "          const docLink = document.createElement('div');\n",
              "          docLink.innerHTML = docLinkHtml;\n",
              "          element.appendChild(docLink);\n",
              "        }\n",
              "      </script>\n",
              "    </div>\n",
              "  </div>\n",
              "  "
            ]
          },
          "metadata": {},
          "execution_count": 65
        }
      ]
    },
    {
      "cell_type": "code",
      "source": [
        "p1 =rf.predict(new_data1)\n",
        "if p1[0]==0:\n",
        "  print(\"disease\")\n",
        "else:\n",
        "  print(\"No Disease\")"
      ],
      "metadata": {
        "colab": {
          "base_uri": "https://localhost:8080/"
        },
        "id": "FubKrcIsA4oX",
        "outputId": "499771c0-8911-46c8-88f2-a83fe8fca3d4"
      },
      "execution_count": 66,
      "outputs": [
        {
          "output_type": "stream",
          "name": "stdout",
          "text": [
            "No Disease\n"
          ]
        }
      ]
    }
  ]
}